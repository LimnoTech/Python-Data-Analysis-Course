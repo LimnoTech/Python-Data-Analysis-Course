{
 "cells": [
  {
   "cell_type": "markdown",
   "metadata": {},
   "source": [
    "### Demo 2 Pandas and Matplotlib basics\n",
    "We're going to import the rain data into Matplotlib and create a plot that we can explore"
   ]
  },
  {
   "cell_type": "code",
   "execution_count": null,
   "metadata": {
    "collapsed": true
   },
   "outputs": [],
   "source": [
    "#always type the following first when using matplotlib in a jupyter notebook\n",
    "#it allows in-line graphics to view results\n",
    "%matplotlib notebook\n",
    "\n",
    "import pandas as pd\n",
    "import matplotlib.pyplot as plt"
   ]
  },
  {
   "cell_type": "code",
   "execution_count": null,
   "metadata": {
    "collapsed": true
   },
   "outputs": [],
   "source": [
    "df = pd.read_excel(\"Output_data/df_daily.xlsx\",index_col=0)"
   ]
  },
  {
   "cell_type": "code",
   "execution_count": null,
   "metadata": {},
   "outputs": [],
   "source": [
    "df.head()"
   ]
  },
  {
   "cell_type": "code",
   "execution_count": null,
   "metadata": {},
   "outputs": [],
   "source": [
    "df.info()"
   ]
  },
  {
   "cell_type": "markdown",
   "metadata": {},
   "source": [
    "## Anatomy of Matplotlib"
   ]
  },
  {
   "cell_type": "code",
   "execution_count": null,
   "metadata": {},
   "outputs": [],
   "source": [
    "#step 1. Create a figure. A figure is a single page with 1 or more plots on it.\n",
    "fig = plt.figure()\n",
    "\n",
    "#step 2. Create an axis. This is a single \"plot\". \n",
    "#The 111 is a short cut for a page layout. 1 plot vertically on page, 1 plot horizontally on page, and this is the first one.\n",
    "ax = fig.add_subplot(1,1,1)\n",
    "\n",
    "#step 3. Draw your plot. Basic function is plot(xdata,ydata,...other optional parameters)\n",
    "x = df.index\n",
    "y1 = df[\"Precip_in\"]\n",
    "y2 = df[\"precip_cm\"]\n",
    "\n",
    "l1 = ax.plot(x,y1)\n",
    "\n",
    "#a very basic, but powerful plot!"
   ]
  },
  {
   "cell_type": "code",
   "execution_count": null,
   "metadata": {
    "collapsed": true
   },
   "outputs": [],
   "source": [
    "#now, personalize it. In jupyter notebooks, it will keep updating the current plot above\n",
    "ax.set_title(\"Daily Rainfall at DCA\")\n",
    "ax.set_xlabel(\"Date\")\n",
    "ax.set_ylabel(\"Rainfall, in\")\n",
    "ax.grid()"
   ]
  },
  {
   "cell_type": "markdown",
   "metadata": {},
   "source": [
    "### Something is rotten in the state of jupyter nootebooks\n",
    "Saving plots doesn't work very smoothly in Jupyter Notebooks. I recommend using Spyder or another editor to develop print-worthy plots. Open `dailyrain.py` to continue"
   ]
  },
  {
   "cell_type": "code",
   "execution_count": null,
   "metadata": {
    "collapsed": true
   },
   "outputs": [],
   "source": []
  }
 ],
 "metadata": {
  "kernelspec": {
   "display_name": "Python 3",
   "language": "python",
   "name": "python3"
  },
  "language_info": {
   "codemirror_mode": {
    "name": "ipython",
    "version": 3
   },
   "file_extension": ".py",
   "mimetype": "text/x-python",
   "name": "python",
   "nbconvert_exporter": "python",
   "pygments_lexer": "ipython3",
   "version": "3.6.1"
  }
 },
 "nbformat": 4,
 "nbformat_minor": 2
}
