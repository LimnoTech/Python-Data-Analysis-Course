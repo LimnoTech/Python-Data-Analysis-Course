{
 "cells": [
  {
   "cell_type": "code",
   "execution_count": null,
   "metadata": {
    "collapsed": true
   },
   "outputs": [],
   "source": [
    "#setup matplotlib to work in notebook\n",
    "%matplotlib notebook\n",
    "\n",
    "import pandas as pd\n",
    "import matplotlib.pyplot as plt\n",
    "import scipy.stats as st\n"
   ]
  },
  {
   "cell_type": "code",
   "execution_count": null,
   "metadata": {
    "collapsed": true
   },
   "outputs": [],
   "source": [
    "#Create a global variable for your data\n",
    "rawdata = \"Input_data/MeterData.csv\""
   ]
  },
  {
   "cell_type": "code",
   "execution_count": null,
   "metadata": {
    "collapsed": true
   },
   "outputs": [],
   "source": [
    "#Read data into a pandas dataframe\n",
    "df = pd.read_csv(rawdata,index_col=0,parse_dates=True)"
   ]
  },
  {
   "cell_type": "code",
   "execution_count": null,
   "metadata": {},
   "outputs": [],
   "source": [
    "df.info()"
   ]
  },
  {
   "cell_type": "code",
   "execution_count": null,
   "metadata": {},
   "outputs": [],
   "source": [
    "#create a plot to compare meter with model data\n",
    "\n",
    "fig = plt.figure()\n",
    "\n",
    "ax = fig.add_subplot(1,1,1)\n",
    "\n",
    "x = df.index\n",
    "y1 = df['flow_model']\n",
    "y2 = df['flow_meter']\n",
    "\n",
    "l1 = plt.plot(x,y1,linestyle='-',linewidth=1,color='black',label='Model')\n",
    "l2 = plt.plot(x,y2,linestyle='None',marker='.',linewidth=0.5,color='blue',label=\"Monitored\")\n",
    "\n",
    "ax.set_title(\"Calibration Data, Meter 14\")\n",
    "ax.set_xlabel(\"Date\")\n",
    "ax.set_ylabel(\"Flow Rate, MGD\")\n",
    "ax.grid()\n",
    "ax.legend()\n",
    "fig.tight_layout()\n",
    "fig.autofmt_xdate()"
   ]
  },
  {
   "cell_type": "code",
   "execution_count": null,
   "metadata": {},
   "outputs": [],
   "source": [
    "#calculate a geometric mean\n",
    "gm_mod = st.gmean(y1)\n",
    "\n",
    "print(\"The geomean of model data is {:.2f}. Don't ever calculate a geomean of a flow rate again\".format(gm_mod,gm_mon))"
   ]
  },
  {
   "cell_type": "code",
   "execution_count": null,
   "metadata": {
    "collapsed": true
   },
   "outputs": [],
   "source": []
  }
 ],
 "metadata": {
  "kernelspec": {
   "display_name": "Python 3",
   "language": "python",
   "name": "python3"
  },
  "language_info": {
   "codemirror_mode": {
    "name": "ipython",
    "version": 3
   },
   "file_extension": ".py",
   "mimetype": "text/x-python",
   "name": "python",
   "nbconvert_exporter": "python",
   "pygments_lexer": "ipython3",
   "version": "3.6.1"
  }
 },
 "nbformat": 4,
 "nbformat_minor": 2
}
