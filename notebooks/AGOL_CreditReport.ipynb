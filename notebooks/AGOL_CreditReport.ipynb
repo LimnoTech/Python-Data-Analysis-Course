{
 "cells": [
  {
   "cell_type": "code",
   "execution_count": 1,
   "metadata": {
    "collapsed": true
   },
   "outputs": [],
   "source": [
    "import arcgis as ag\n",
    "import pandas as pd\n",
    "import datetime"
   ]
  },
  {
   "cell_type": "code",
   "execution_count": 2,
   "metadata": {
    "collapsed": true
   },
   "outputs": [],
   "source": [
    "#credit conversions \n",
    "confac_features = 0.024 # units of dollar per MB * months\n",
    "confac_data =  0.00012 # units of dollar per MB * months\n",
    "confac_month_day = 730/24 # units of days / month - based on hourly calculation\n",
    "confac_price_credit = 0.1 #units of dollar per credit"
   ]
  },
  {
   "cell_type": "code",
   "execution_count": 3,
   "metadata": {
    "collapsed": true
   },
   "outputs": [],
   "source": [
    "#create GIS instance - note you need to replace username and password\n",
    "gis = ag.GIS(\"https://www.arcgis.com\",\"username\",\"password\")"
   ]
  },
  {
   "cell_type": "code",
   "execution_count": 4,
   "metadata": {
    "collapsed": true
   },
   "outputs": [],
   "source": [
    "df = pd.DataFrame(data=None,columns=['item_ID','title','item_type','owner','access_level','fileSize_MB','hosting_daily_credits','hostingFee_daily','hostingFee_annualy','total_views','date_created','date_modified'])"
   ]
  },
  {
   "cell_type": "code",
   "execution_count": 5,
   "metadata": {
    "collapsed": true
   },
   "outputs": [],
   "source": [
    "#query our GIS content and assign to dataframe\n",
    "items = gis.content.search(query=\"*\",max_items=10000)\n",
    "for item in items:\n",
    "    if item.type == \"Feature Service\":\n",
    "        hosting_credits = (item.size/1024/1024*confac_features/confac_month_day/confac_price_credit)\n",
    "        hosting_daily = (item.size/1024/1024*confac_features/confac_month_day)\n",
    "        hosting_annual = (item.size/1024/1024*confac_features*12)\n",
    "    else:\n",
    "        hosting_credits = (item.size/1024/1024*confac_data/confac_month_day/confac_price_credit)\n",
    "        hosting_daily = (item.size/1024/1024*confac_data/confac_month_day)\n",
    "        hosting_annual = (item.size/1024/1024*confac_data*12)\n",
    "    df.loc[len(df)]=[\n",
    "        item.id,\n",
    "        item.title,\n",
    "        item.type,\n",
    "        item.owner,\n",
    "        item.access,    \n",
    "        item.size/1024/1024,\n",
    "        hosting_credits,\n",
    "        hosting_daily,\n",
    "        hosting_annual,\n",
    "        item.numViews,\n",
    "        datetime.datetime.fromtimestamp(item.created/1000),\n",
    "        datetime.datetime.fromtimestamp(item.modified/1000)\n",
    "    ]"
   ]
  },
  {
   "cell_type": "code",
   "execution_count": 6,
   "metadata": {
    "collapsed": true
   },
   "outputs": [],
   "source": [
    "df.to_excel(R'.\\AGOL_Report.xlsx',sheet_name=\"CreditReport\")"
   ]
  }
 ],
 "metadata": {
  "kernelspec": {
   "display_name": "Python 3",
   "language": "python",
   "name": "python3"
  },
  "language_info": {
   "codemirror_mode": {
    "name": "ipython",
    "version": 3
   },
   "file_extension": ".py",
   "mimetype": "text/x-python",
   "name": "python",
   "nbconvert_exporter": "python",
   "pygments_lexer": "ipython3",
   "version": "3.6.1"
  }
 },
 "nbformat": 4,
 "nbformat_minor": 2
}
